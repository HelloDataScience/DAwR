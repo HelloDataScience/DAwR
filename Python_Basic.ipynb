{
  "nbformat": 4,
  "nbformat_minor": 0,
  "metadata": {
    "colab": {
      "name": "Python Basic.ipynb",
      "private_outputs": true,
      "provenance": [],
      "collapsed_sections": [],
      "authorship_tag": "ABX9TyNEGEw7/NmwDyP/VDyVu3/z",
      "include_colab_link": true
    },
    "kernelspec": {
      "name": "python3",
      "display_name": "Python 3"
    },
    "language_info": {
      "name": "python"
    }
  },
  "cells": [
    {
      "cell_type": "markdown",
      "metadata": {
        "id": "view-in-github",
        "colab_type": "text"
      },
      "source": [
        "<a href=\"https://colab.research.google.com/github/HelloDataScience/DAwR/blob/main/Python_Basic.ipynb\" target=\"_parent\"><img src=\"https://colab.research.google.com/assets/colab-badge.svg\" alt=\"Open In Colab\"/></a>"
      ]
    },
    {
      "cell_type": "markdown",
      "source": [
        "# 주피터 노트북 사용법\n",
        "\n",
        "- 편집모드(Edit mode): 파이썬 코드 입력 및 실행\n",
        "- 명령모드(Command mode): 단축키로 셀 관련 동작 실행\n",
        "\n",
        "- 단축키 모음\n",
        "  - ctrl + m a: 현재 셀 위에 코드 셀 추가\n",
        "  - ctrl + m b: 현재 셀 아래에 코드 셀 추가\n",
        "  - ctrl + m m: 코드 셀을 텍스트 셀로 변환\n",
        "  - shift + enter: 코드 셀 실행 후 아래로 이동"
      ],
      "metadata": {
        "id": "nKyAqUSrLqsz"
      }
    },
    {
      "cell_type": "code",
      "source": [
        "1 + 1"
      ],
      "metadata": {
        "id": "DndLJzfyLpyR"
      },
      "execution_count": null,
      "outputs": []
    },
    {
      "cell_type": "code",
      "execution_count": null,
      "metadata": {
        "id": "t8k2IeroK9v3"
      },
      "outputs": [],
      "source": [
        "2 + 1"
      ]
    },
    {
      "cell_type": "code",
      "source": [
        ""
      ],
      "metadata": {
        "id": "slI7NTEFNMUM"
      },
      "execution_count": null,
      "outputs": []
    }
  ]
}